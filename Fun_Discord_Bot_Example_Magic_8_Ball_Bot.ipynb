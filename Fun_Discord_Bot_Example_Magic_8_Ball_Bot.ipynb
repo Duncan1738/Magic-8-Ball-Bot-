{
  "nbformat": 4,
  "nbformat_minor": 0,
  "metadata": {
    "colab": {
      "provenance": [],
      "authorship_tag": "ABX9TyMU7CFxgmxdweiy349pV4E5",
      "include_colab_link": true
    },
    "kernelspec": {
      "name": "python3",
      "display_name": "Python 3"
    },
    "language_info": {
      "name": "python"
    }
  },
  "cells": [
    {
      "cell_type": "markdown",
      "metadata": {
        "id": "view-in-github",
        "colab_type": "text"
      },
      "source": [
        "<a href=\"https://colab.research.google.com/github/Duncan1738/Magic-8-Ball-Bot-/blob/main/Fun_Discord_Bot_Example_Magic_8_Ball_Bot.ipynb\" target=\"_parent\"><img src=\"https://colab.research.google.com/assets/colab-badge.svg\" alt=\"Open In Colab\"/></a>"
      ]
    },
    {
      "cell_type": "code",
      "execution_count": null,
      "metadata": {
        "id": "rf5_FzEsXkva"
      },
      "outputs": [],
      "source": [
        "# Install discord.py\n",
        "!pip install -q discord.py\n",
        "\n",
        "import discord\n",
        "import random\n",
        "import asyncio\n",
        "import nest_asyncio\n",
        "import os\n",
        "\n",
        "# Allow nested event loops for Colab\n",
        "nest_asyncio.apply()\n",
        "\n",
        "# Your bot token here\n",
        "TOKEN = 'YOUR_DISCORD_BOT_TOKEN'  #  Replace this with your actual bot token\n",
        "\n",
        "# Set intents\n",
        "intents = discord.Intents.default()\n",
        "intents.message_content = True\n",
        "\n",
        "# Create bot client\n",
        "client = discord.Client(intents=intents)\n",
        "\n",
        "# Magic 8-ball possible responses\n",
        "eight_ball_responses = [\n",
        "    \"🎱 It is certain.\",\n",
        "    \"🎱 Without a doubt.\",\n",
        "    \"🎱 You may rely on it.\",\n",
        "    \"🎱 Yes, definitely!\",\n",
        "    \"🎱 As I see it, yes.\",\n",
        "    \"🎱 Most likely.\",\n",
        "    \"🎱 Outlook good.\",\n",
        "    \"🎱 Yes.\",\n",
        "    \"🎱 Signs point to yes.\",\n",
        "    \"🎱 Reply hazy, try again.\",\n",
        "    \"🎱 Ask again later.\",\n",
        "    \"🎱 Better not tell you now.\",\n",
        "    \"🎱 Cannot predict now.\",\n",
        "    \"🎱 Concentrate and ask again.\",\n",
        "    \"🎱 Don't count on it.\",\n",
        "    \"🎱 My reply is no.\",\n",
        "    \"🎱 Outlook not so good.\",\n",
        "    \"🎱 Very doubtful.\"\n",
        "]\n",
        "\n",
        "@client.event\n",
        "async def on_ready():\n",
        "    print(f'✅ {client.user} is online!')\n",
        "\n",
        "@client.event\n",
        "async def on_message(message):\n",
        "    if message.author == client.user:\n",
        "        return\n",
        "\n",
        "    if message.content.lower().startswith('!8ball'):\n",
        "        question = message.content[7:].strip()  # Get the question after '!8ball'\n",
        "        if question == \"\":\n",
        "            await message.channel.send(\"🎱 Please ask a full question after '!8ball'.\")\n",
        "        else:\n",
        "            response = random.choice(eight_ball_responses)\n",
        "            await message.channel.send(f\"Question: {question}\\nAnswer: {response}\")\n",
        "\n",
        "# Run bot\n",
        "async def start_bot():\n",
        "    await client.start(TOKEN)\n",
        "\n",
        "await start_bot()\n"
      ]
    }
  ]
}